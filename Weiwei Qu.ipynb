{
 "cells": [
  {
   "cell_type": "code",
   "execution_count": 35,
   "id": "53722199",
   "metadata": {},
   "outputs": [],
   "source": [
    "# Problem 1 #\n"
   ]
  },
  {
   "cell_type": "code",
   "execution_count": 1,
   "id": "7dd95263",
   "metadata": {},
   "outputs": [
    {
     "name": "stdout",
     "output_type": "stream",
     "text": [
      "Requirement already satisfied: requests in /Users/vv/opt/anaconda3/envs/R/lib/python3.8/site-packages (2.27.1)\n",
      "Requirement already satisfied: certifi>=2017.4.17 in /Users/vv/opt/anaconda3/envs/R/lib/python3.8/site-packages (from requests) (2021.10.8)\n",
      "Requirement already satisfied: idna<4,>=2.5 in /Users/vv/opt/anaconda3/envs/R/lib/python3.8/site-packages (from requests) (3.3)\n",
      "Requirement already satisfied: urllib3<1.27,>=1.21.1 in /Users/vv/opt/anaconda3/envs/R/lib/python3.8/site-packages (from requests) (1.26.8)\n",
      "Requirement already satisfied: charset-normalizer~=2.0.0 in /Users/vv/opt/anaconda3/envs/R/lib/python3.8/site-packages (from requests) (2.0.4)\n",
      "Note: you may need to restart the kernel to use updated packages.\n"
     ]
    }
   ],
   "source": [
    "pip install requests"
   ]
  },
  {
   "cell_type": "code",
   "execution_count": 52,
   "id": "03edd35b",
   "metadata": {},
   "outputs": [],
   "source": [
    "import requests\n",
    "import json"
   ]
  },
  {
   "cell_type": "code",
   "execution_count": 13,
   "id": "c5f7eaca",
   "metadata": {},
   "outputs": [],
   "source": [
    "ur = \"https://ies-midterm.soulution.rocks/login\"\n",
    "mynum = {'cuni':'51014941'}\n",
    "result = requests.post(ur,json= mynum)\n",
    "    \n"
   ]
  },
  {
   "cell_type": "code",
   "execution_count": 14,
   "id": "f97dcda0",
   "metadata": {},
   "outputs": [
    {
     "name": "stdout",
     "output_type": "stream",
     "text": [
      "200\n"
     ]
    }
   ],
   "source": [
    "print(result.status_code)"
   ]
  },
  {
   "cell_type": "code",
   "execution_count": 31,
   "id": "d3a55869",
   "metadata": {
    "scrolled": true
   },
   "outputs": [
    {
     "data": {
      "text/plain": [
       "'{\"data\": {\"personal_code\": \"600e525b\", \"dataset_ids\": [\"64a5d99db0\", \"f894683be9\", \"24f88cb68c\", \"86c214b421\", \"40138ff3b8\", \"557b58dd1d\"]}, \"message\": \"Hello, Qu Weiwei! Good luck with the midterm. GET your data set from /data/file_id endpoint; use the codes you received in the data response as the file_id parameter! Print the personal code in your notebook.\"}'"
      ]
     },
     "execution_count": 31,
     "metadata": {},
     "output_type": "execute_result"
    }
   ],
   "source": [
    "result.text"
   ]
  },
  {
   "cell_type": "code",
   "execution_count": null,
   "id": "f7844c41",
   "metadata": {},
   "outputs": [],
   "source": [
    "print('{\"data\": {\"personal_code\": \"600e525b\", \"dataset_ids\": [\"64a5d99db0\", \"f894683be9\", \"24f88cb68c\", \"86c214b421\", \"40138ff3b8\", \"557b58dd1d\"]}, \"message\": \"Hello, Qu Weiwei! Good luck with the midterm. GET your data set from /data/file_id endpoint; use the codes you received in the data response as the file_id parameter! Print the personal code in your notebook.\"}')"
   ]
  },
  {
   "cell_type": "code",
   "execution_count": 77,
   "id": "955a0365",
   "metadata": {
    "scrolled": false
   },
   "outputs": [
    {
     "name": "stdout",
     "output_type": "stream",
     "text": [
      "<Response [404]>\n"
     ]
    }
   ],
   "source": [
    "code= '[\"64a5d99db0\", \"f894683be9\", \"24f88cb68c\", \"86c214b421\", \"40138ff3b8\", \"557b58dd1d\"]'\n",
    "data = requests.get('https://ies-midterm.soulution.rocks/data/'+code)\n"
   ]
  },
  {
   "cell_type": "code",
   "execution_count": 36,
   "id": "5f499e4a",
   "metadata": {},
   "outputs": [],
   "source": [
    "# Problem 2 #\n"
   ]
  },
  {
   "cell_type": "code",
   "execution_count": 56,
   "id": "5bc93159",
   "metadata": {},
   "outputs": [
    {
     "name": "stdout",
     "output_type": "stream",
     "text": [
      "Collecting matplotlib\n",
      "  Downloading matplotlib-3.5.1-cp38-cp38-macosx_10_9_x86_64.whl (7.3 MB)\n",
      "\u001b[K     |████████████████████████████████| 7.3 MB 6.3 MB/s eta 0:00:01\n",
      "\u001b[?25hRequirement already satisfied: packaging>=20.0 in /Users/vv/opt/anaconda3/envs/R/lib/python3.8/site-packages (from matplotlib) (21.3)\n",
      "Collecting kiwisolver>=1.0.1\n",
      "  Downloading kiwisolver-1.4.2-cp38-cp38-macosx_10_9_x86_64.whl (65 kB)\n",
      "\u001b[K     |████████████████████████████████| 65 kB 5.7 MB/s  eta 0:00:01\n",
      "\u001b[?25hCollecting cycler>=0.10\n",
      "  Using cached cycler-0.11.0-py3-none-any.whl (6.4 kB)\n",
      "Requirement already satisfied: numpy>=1.17 in /Users/vv/opt/anaconda3/envs/R/lib/python3.8/site-packages (from matplotlib) (1.22.3)\n",
      "Requirement already satisfied: python-dateutil>=2.7 in /Users/vv/opt/anaconda3/envs/R/lib/python3.8/site-packages (from matplotlib) (2.8.2)\n",
      "Collecting fonttools>=4.22.0\n",
      "  Using cached fonttools-4.31.2-py3-none-any.whl (899 kB)\n",
      "Requirement already satisfied: pyparsing>=2.2.1 in /Users/vv/opt/anaconda3/envs/R/lib/python3.8/site-packages (from matplotlib) (3.0.4)\n",
      "Collecting pillow>=6.2.0\n",
      "  Downloading Pillow-9.1.0-cp38-cp38-macosx_10_9_x86_64.whl (3.1 MB)\n",
      "\u001b[K     |████████████████████████████████| 3.1 MB 6.9 MB/s eta 0:00:01\n",
      "\u001b[?25hRequirement already satisfied: six>=1.5 in /Users/vv/opt/anaconda3/envs/R/lib/python3.8/site-packages (from python-dateutil>=2.7->matplotlib) (1.16.0)\n",
      "Installing collected packages: pillow, kiwisolver, fonttools, cycler, matplotlib\n",
      "Successfully installed cycler-0.11.0 fonttools-4.31.2 kiwisolver-1.4.2 matplotlib-3.5.1 pillow-9.1.0\n",
      "Note: you may need to restart the kernel to use updated packages.\n"
     ]
    }
   ],
   "source": [
    "pip install matplotlib"
   ]
  },
  {
   "cell_type": "code",
   "execution_count": 57,
   "id": "5aec4afd",
   "metadata": {},
   "outputs": [],
   "source": [
    "import pandas as pd \n",
    "import matplotlib.pyplot as plt\n",
    "import numpy as np"
   ]
  },
  {
   "cell_type": "code",
   "execution_count": 89,
   "id": "464d2661",
   "metadata": {},
   "outputs": [
    {
     "data": {
      "text/plain": [
       "'{\"data\": {}, \"message\": \"DO NOT SHARE THE DATASET WITH ANYONE! Download manually the following file which contains the data: https://ies-python-midterm.s3.eu-central-1.amazonaws.com/sos.zip\"}'"
      ]
     },
     "execution_count": 89,
     "metadata": {},
     "output_type": "execute_result"
    }
   ],
   "source": [
    "ur = \"https://ies-midterm.soulution.rocks/saveme\"\n",
    "mynum = {'cuni':'51014941'}\n",
    "data0 = requests.post(ur,json= mynum)\n",
    "    \n",
    "data0.text\n"
   ]
  },
  {
   "cell_type": "code",
   "execution_count": 96,
   "id": "2ddc1ea5",
   "metadata": {
    "scrolled": true
   },
   "outputs": [
    {
     "ename": "SyntaxError",
     "evalue": "(unicode error) 'unicodeescape' codec can't decode bytes in position 0-1: truncated \\UXXXXXXXX escape (2432865602.py, line 1)",
     "output_type": "error",
     "traceback": [
      "\u001b[0;36m  File \u001b[0;32m\"/var/folders/dk/nf366h6x2llfc1ssq_6kjhlc0000gn/T/ipykernel_27826/2432865602.py\"\u001b[0;36m, line \u001b[0;32m1\u001b[0m\n\u001b[0;31m    dt= pd.read_csv('\\Users\\vv\\Downloads\\sos.csv')\u001b[0m\n\u001b[0m                    ^\u001b[0m\n\u001b[0;31mSyntaxError\u001b[0m\u001b[0;31m:\u001b[0m (unicode error) 'unicodeescape' codec can't decode bytes in position 0-1: truncated \\UXXXXXXXX escape\n"
     ]
    }
   ],
   "source": [
    "dt= pd.read_csv('\\Users\\vv\\Downloads\\sos.csv')\n",
    "print(dt)"
   ]
  },
  {
   "cell_type": "code",
   "execution_count": 98,
   "id": "819f41f2",
   "metadata": {
    "scrolled": true
   },
   "outputs": [
    {
     "data": {
      "text/html": [
       "<div>\n",
       "<style scoped>\n",
       "    .dataframe tbody tr th:only-of-type {\n",
       "        vertical-align: middle;\n",
       "    }\n",
       "\n",
       "    .dataframe tbody tr th {\n",
       "        vertical-align: top;\n",
       "    }\n",
       "\n",
       "    .dataframe thead th {\n",
       "        text-align: right;\n",
       "    }\n",
       "</style>\n",
       "<table border=\"1\" class=\"dataframe\">\n",
       "  <thead>\n",
       "    <tr style=\"text-align: right;\">\n",
       "      <th></th>\n",
       "      <th>0</th>\n",
       "    </tr>\n",
       "  </thead>\n",
       "  <tbody>\n",
       "    <tr>\n",
       "      <th>0</th>\n",
       "      <td>b'{\"message\":\"Missing Authentication Token\"}'</td>\n",
       "    </tr>\n",
       "  </tbody>\n",
       "</table>\n",
       "</div>"
      ],
      "text/plain": [
       "                                               0\n",
       "0  b'{\"message\":\"Missing Authentication Token\"}'"
      ]
     },
     "execution_count": 98,
     "metadata": {},
     "output_type": "execute_result"
    }
   ],
   "source": [
    "dt.head()\n",
    "dt.tail()\n",
    "dt.info()"
   ]
  },
  {
   "cell_type": "code",
   "execution_count": 99,
   "id": "a95fb5fe",
   "metadata": {},
   "outputs": [
    {
     "data": {
      "text/plain": [
       "0    b'{\"message\":\"Missing Authentication Token\"}'\n",
       "dtype: object"
      ]
     },
     "execution_count": 99,
     "metadata": {},
     "output_type": "execute_result"
    }
   ],
   "source": [
    "dt.max()#heighest number\n",
    "print(dt.max)"
   ]
  },
  {
   "cell_type": "code",
   "execution_count": null,
   "id": "79313388",
   "metadata": {},
   "outputs": [],
   "source": []
  },
  {
   "cell_type": "code",
   "execution_count": null,
   "id": "b1d3dc14",
   "metadata": {},
   "outputs": [],
   "source": [
    "dt[\"tricker\"][(dt==dt.max())]"
   ]
  },
  {
   "cell_type": "code",
   "execution_count": null,
   "id": "eaf06e29",
   "metadata": {},
   "outputs": [],
   "source": [
    "dt[\"Adj Close\"].max\n",
    "dt[\"Adj Close\"].min\n",
    "#highest and lowest Adj Close price the company recorded"
   ]
  },
  {
   "cell_type": "code",
   "execution_count": null,
   "id": "58b92c54",
   "metadata": {},
   "outputs": [],
   "source": [
    "dt[\"valume\"].sum()\n",
    "    #sum of shares traded "
   ]
  },
  {
   "cell_type": "code",
   "execution_count": null,
   "id": "061a70d0",
   "metadata": {},
   "outputs": [],
   "source": [
    "dt.index.weekday"
   ]
  },
  {
   "cell_type": "code",
   "execution_count": null,
   "id": "0d72eceb",
   "metadata": {},
   "outputs": [],
   "source": []
  }
 ],
 "metadata": {
  "kernelspec": {
   "display_name": "Python 3 (ipykernel)",
   "language": "python",
   "name": "python3"
  },
  "language_info": {
   "codemirror_mode": {
    "name": "ipython",
    "version": 3
   },
   "file_extension": ".py",
   "mimetype": "text/x-python",
   "name": "python",
   "nbconvert_exporter": "python",
   "pygments_lexer": "ipython3",
   "version": "3.8.2"
  }
 },
 "nbformat": 4,
 "nbformat_minor": 5
}
